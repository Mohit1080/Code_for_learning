{
 "cells": [
  {
   "cell_type": "code",
   "execution_count": 6,
   "id": "2c062b50",
   "metadata": {},
   "outputs": [
    {
     "name": "stdout",
     "output_type": "stream",
     "text": [
      "your Emplyee Id is : 12 and Emplyee name is : Mohit , and your bouns is :  70\n",
      "your Emplyee Id is : 15 and Emplyee name is : Anjali , work hard,then next year you will get a bouns.😒😒\n",
      "your Emplyee Id is : 18 and Emplyee name is : shagun , and your bouns is :  50\n"
     ]
    }
   ],
   "source": [
    "class Employee_Bouns:\n",
    "    def __init__(self,employee_id,employee_name,employee_rating):\n",
    "        self.employee_id=employee_id\n",
    "        self.employee_name=employee_name\n",
    "        self.employee_rating=employee_rating\n",
    "        self.__emp_ratingA=\"70\"\n",
    "        self.__emp_ratingB=\"60\"\n",
    "        self.__emp_ratingC=\"50\"\n",
    "        self.__emp_ratingD=\"40\"\n",
    "        self.__emp_no_bouns=\"work hard,then next year you will get a bouns.😒😒\"\n",
    "    #bonus calculater\n",
    "    \n",
    "    def bounsCalculater(self):\n",
    "        if self.employee_rating==\"A\":\n",
    "            print('your Emplyee Id is :',self.employee_id, 'and Emplyee name is :',self.employee_name,\", and your bouns is : \",self.__emp_ratingA)\n",
    "        elif self.employee_rating==\"B\":\n",
    "            print('your Emplyee Id is :',self.employee_id,'and Emplyee name is :',self.employee_name,', and your bouns is :',self.__emp_ratingB)\n",
    "        elif self.employee_rating==\"C\":\n",
    "            print('your Emplyee Id is :',self.employee_id,'and Emplyee name is :',self.employee_name,\", and your bouns is : \",self.__emp_ratingC)\n",
    "        elif self.employee_rating ==\"D\":\n",
    "            print('your Emplyee Id is :',self.employee_id,'and Emplyee name is :',self.employee_name,', and your bouns is :',self.__emp_ratingD)\n",
    "        else:\n",
    "            print('your Emplyee Id is :',self.employee_id,'and Emplyee name is :',self.employee_name,',',self.__emp_no_bouns)\n",
    "            \n",
    "            \n",
    "#execute the class with example\n",
    "emp1=Employee_Bouns(12,'Mohit',\"A\")\n",
    "emp2=Employee_Bouns(15,'Anjali',\"E\")\n",
    "emp3=Employee_Bouns(18,'shagun',\"C\")\n",
    "\n",
    "\n",
    "\n",
    "#calculate bouns\n",
    "emp1.bounsCalculater()\n",
    "emp2.bounsCalculater()\n",
    "emp3.bounsCalculater()"
   ]
  },
  {
   "cell_type": "code",
   "execution_count": null,
   "id": "bec506e1",
   "metadata": {},
   "outputs": [],
   "source": []
  },
  {
   "cell_type": "code",
   "execution_count": null,
   "id": "3a57235e",
   "metadata": {},
   "outputs": [],
   "source": []
  }
 ],
 "metadata": {
  "kernelspec": {
   "display_name": "Python 3 (ipykernel)",
   "language": "python",
   "name": "python3"
  },
  "language_info": {
   "codemirror_mode": {
    "name": "ipython",
    "version": 3
   },
   "file_extension": ".py",
   "mimetype": "text/x-python",
   "name": "python",
   "nbconvert_exporter": "python",
   "pygments_lexer": "ipython3",
   "version": "3.9.12"
  }
 },
 "nbformat": 4,
 "nbformat_minor": 5
}
